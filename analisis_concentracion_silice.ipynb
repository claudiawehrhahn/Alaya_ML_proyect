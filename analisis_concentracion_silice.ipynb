{
 "cells": [
  {
   "cell_type": "markdown",
   "id": "baa510ce",
   "metadata": {},
   "source": [
    "# Prueba ML: analisis de concentracion de silice"
   ]
  },
  {
   "cell_type": "markdown",
   "id": "a8bb3b57",
   "metadata": {},
   "source": [
    "Nota: acentos y tildes propias del espanol han sido omitidas"
   ]
  },
  {
   "cell_type": "markdown",
   "id": "9039deb4",
   "metadata": {},
   "source": [
    "## Predecir el % de concentrado de silice"
   ]
  },
  {
   "cell_type": "markdown",
   "id": "a430ed96",
   "metadata": {},
   "source": [
    "### Librerias"
   ]
  },
  {
   "cell_type": "code",
   "execution_count": 238,
   "id": "943bbb50",
   "metadata": {},
   "outputs": [],
   "source": [
    "# librerias que se usaran\n",
    "import pandas as pd\n",
    "import numpy as np\n",
    "import matplotlib.pyplot as plt\n",
    "\n",
    "from sklearn.preprocessing import StandardScaler\n",
    "scale = StandardScaler()\n",
    "from sklearn.linear_model import LinearRegression\n",
    "from sklearn.metrics import r2_score\n",
    "from sklearn.metrics import mean_squared_error\n",
    "from sklearn.metrics import mean_absolute_error\n",
    "from sklearn import linear_model\n",
    "from sklearn.linear_model import ElasticNet\n",
    "from sklearn.datasets import make_regression"
   ]
  },
  {
   "cell_type": "markdown",
   "id": "1b7bbb02",
   "metadata": {},
   "source": [
    "### Algunas funciones "
   ]
  },
  {
   "cell_type": "code",
   "execution_count": 288,
   "id": "d9549573",
   "metadata": {},
   "outputs": [],
   "source": [
    "def model_summaries(model, X, y):\n",
    "    # para ver efecto de las variables en el modelo\n",
    "    scaler = scale.fit(X)\n",
    "    Z = scaler.transform(X)\n",
    "    model.fit(Z, y)\n",
    "    coef_Z = model.coef_.round(4)\n",
    "    \n",
    "    # modelo\n",
    "    model.fit(X, y)\n",
    "    print(\"R2 is\", round(model.score(X, y), 4))\n",
    "    print(\"Intercept is \", round(model.intercept_, 4))\n",
    "    \n",
    "    coeficientes = pd.DataFrame([X.columns, model.coef_.round(4), coef_Z]).T\n",
    "    coeficientes.columns = ['variable', 'beta', 'beta_var_Z']\n",
    "    print(coeficientes)\n",
    "    \n",
    "\n",
    "def metrics_on_test(pred, y):\n",
    "    \n",
    "    print(\"R2 is  \", round(r2_score(y, pred), 4))\n",
    "    print(\"MSE is \", round(mean_squared_error(y, pred), 4))\n",
    "    print(\"MAE is \", round(mean_absolute_error(y, pred), 4))"
   ]
  },
  {
   "cell_type": "markdown",
   "id": "abf4c2ea",
   "metadata": {},
   "source": [
    "## Estrategia"
   ]
  },
  {
   "cell_type": "markdown",
   "id": "8433208d",
   "metadata": {},
   "source": [
    "Primero voy a cargar los datos y hacer un analisis descriptivo numerico y grafico. \n",
    "Segundo, voy a agregar la informacion a nivel de dia - hora.\n",
    "Tercero, mirare la evolucion temporal de los datos y discutire metodolosgias de modelamiento.\n",
    "Cuarto, llevare a cabo el analisis estadistico.\n",
    "Quinto, analizare el modelo seleccionado y mostrare una grafica sobre evolucion de % de concentracion de silice."
   ]
  },
  {
   "cell_type": "markdown",
   "id": "f82b8b67",
   "metadata": {},
   "source": [
    "## 1. Cargar datos"
   ]
  },
  {
   "cell_type": "code",
   "execution_count": 2,
   "id": "5c34978e",
   "metadata": {},
   "outputs": [],
   "source": [
    "# cargar datos\n",
    "data = pd.read_csv(\"./Data/MiningProcess_Flotation_Plant_Database.csv\", \n",
    "                     sep = ',', decimal = ',')"
   ]
  },
  {
   "cell_type": "markdown",
   "id": "dcd357eb",
   "metadata": {},
   "source": [
    "### Informacion basica sobre los datos:"
   ]
  },
  {
   "cell_type": "code",
   "execution_count": 3,
   "id": "c78f9645",
   "metadata": {},
   "outputs": [
    {
     "data": {
      "text/html": [
       "<div>\n",
       "<style scoped>\n",
       "    .dataframe tbody tr th:only-of-type {\n",
       "        vertical-align: middle;\n",
       "    }\n",
       "\n",
       "    .dataframe tbody tr th {\n",
       "        vertical-align: top;\n",
       "    }\n",
       "\n",
       "    .dataframe thead th {\n",
       "        text-align: right;\n",
       "    }\n",
       "</style>\n",
       "<table border=\"1\" class=\"dataframe\">\n",
       "  <thead>\n",
       "    <tr style=\"text-align: right;\">\n",
       "      <th></th>\n",
       "      <th>date</th>\n",
       "      <th>% Iron Feed</th>\n",
       "      <th>% Silica Feed</th>\n",
       "      <th>Starch Flow</th>\n",
       "      <th>Amina Flow</th>\n",
       "      <th>Ore Pulp Flow</th>\n",
       "      <th>Ore Pulp pH</th>\n",
       "      <th>Ore Pulp Density</th>\n",
       "      <th>Flotation Column 01 Air Flow</th>\n",
       "      <th>Flotation Column 02 Air Flow</th>\n",
       "      <th>...</th>\n",
       "      <th>Flotation Column 07 Air Flow</th>\n",
       "      <th>Flotation Column 01 Level</th>\n",
       "      <th>Flotation Column 02 Level</th>\n",
       "      <th>Flotation Column 03 Level</th>\n",
       "      <th>Flotation Column 04 Level</th>\n",
       "      <th>Flotation Column 05 Level</th>\n",
       "      <th>Flotation Column 06 Level</th>\n",
       "      <th>Flotation Column 07 Level</th>\n",
       "      <th>% Iron Concentrate</th>\n",
       "      <th>% Silica Concentrate</th>\n",
       "    </tr>\n",
       "  </thead>\n",
       "  <tbody>\n",
       "    <tr>\n",
       "      <th>0</th>\n",
       "      <td>2017-03-10 01:00:00</td>\n",
       "      <td>55.2</td>\n",
       "      <td>16.98</td>\n",
       "      <td>3019.53</td>\n",
       "      <td>557.434</td>\n",
       "      <td>395.713</td>\n",
       "      <td>10.0664</td>\n",
       "      <td>1.74</td>\n",
       "      <td>249.214</td>\n",
       "      <td>253.235</td>\n",
       "      <td>...</td>\n",
       "      <td>250.884</td>\n",
       "      <td>457.396</td>\n",
       "      <td>432.962</td>\n",
       "      <td>424.954</td>\n",
       "      <td>443.558</td>\n",
       "      <td>502.255</td>\n",
       "      <td>446.370</td>\n",
       "      <td>523.344</td>\n",
       "      <td>66.91</td>\n",
       "      <td>1.31</td>\n",
       "    </tr>\n",
       "    <tr>\n",
       "      <th>1</th>\n",
       "      <td>2017-03-10 01:00:00</td>\n",
       "      <td>55.2</td>\n",
       "      <td>16.98</td>\n",
       "      <td>3024.41</td>\n",
       "      <td>563.965</td>\n",
       "      <td>397.383</td>\n",
       "      <td>10.0672</td>\n",
       "      <td>1.74</td>\n",
       "      <td>249.719</td>\n",
       "      <td>250.532</td>\n",
       "      <td>...</td>\n",
       "      <td>248.994</td>\n",
       "      <td>451.891</td>\n",
       "      <td>429.560</td>\n",
       "      <td>432.939</td>\n",
       "      <td>448.086</td>\n",
       "      <td>496.363</td>\n",
       "      <td>445.922</td>\n",
       "      <td>498.075</td>\n",
       "      <td>66.91</td>\n",
       "      <td>1.31</td>\n",
       "    </tr>\n",
       "    <tr>\n",
       "      <th>2</th>\n",
       "      <td>2017-03-10 01:00:00</td>\n",
       "      <td>55.2</td>\n",
       "      <td>16.98</td>\n",
       "      <td>3043.46</td>\n",
       "      <td>568.054</td>\n",
       "      <td>399.668</td>\n",
       "      <td>10.0680</td>\n",
       "      <td>1.74</td>\n",
       "      <td>249.741</td>\n",
       "      <td>247.874</td>\n",
       "      <td>...</td>\n",
       "      <td>248.071</td>\n",
       "      <td>451.240</td>\n",
       "      <td>468.927</td>\n",
       "      <td>434.610</td>\n",
       "      <td>449.688</td>\n",
       "      <td>484.411</td>\n",
       "      <td>447.826</td>\n",
       "      <td>458.567</td>\n",
       "      <td>66.91</td>\n",
       "      <td>1.31</td>\n",
       "    </tr>\n",
       "    <tr>\n",
       "      <th>3</th>\n",
       "      <td>2017-03-10 01:00:00</td>\n",
       "      <td>55.2</td>\n",
       "      <td>16.98</td>\n",
       "      <td>3047.36</td>\n",
       "      <td>568.665</td>\n",
       "      <td>397.939</td>\n",
       "      <td>10.0689</td>\n",
       "      <td>1.74</td>\n",
       "      <td>249.917</td>\n",
       "      <td>254.487</td>\n",
       "      <td>...</td>\n",
       "      <td>251.147</td>\n",
       "      <td>452.441</td>\n",
       "      <td>458.165</td>\n",
       "      <td>442.865</td>\n",
       "      <td>446.210</td>\n",
       "      <td>471.411</td>\n",
       "      <td>437.690</td>\n",
       "      <td>427.669</td>\n",
       "      <td>66.91</td>\n",
       "      <td>1.31</td>\n",
       "    </tr>\n",
       "    <tr>\n",
       "      <th>4</th>\n",
       "      <td>2017-03-10 01:00:00</td>\n",
       "      <td>55.2</td>\n",
       "      <td>16.98</td>\n",
       "      <td>3033.69</td>\n",
       "      <td>558.167</td>\n",
       "      <td>400.254</td>\n",
       "      <td>10.0697</td>\n",
       "      <td>1.74</td>\n",
       "      <td>250.203</td>\n",
       "      <td>252.136</td>\n",
       "      <td>...</td>\n",
       "      <td>248.928</td>\n",
       "      <td>452.441</td>\n",
       "      <td>452.900</td>\n",
       "      <td>450.523</td>\n",
       "      <td>453.670</td>\n",
       "      <td>462.598</td>\n",
       "      <td>443.682</td>\n",
       "      <td>425.679</td>\n",
       "      <td>66.91</td>\n",
       "      <td>1.31</td>\n",
       "    </tr>\n",
       "  </tbody>\n",
       "</table>\n",
       "<p>5 rows × 24 columns</p>\n",
       "</div>"
      ],
      "text/plain": [
       "                  date  % Iron Feed  % Silica Feed  Starch Flow  Amina Flow  \\\n",
       "0  2017-03-10 01:00:00         55.2          16.98      3019.53     557.434   \n",
       "1  2017-03-10 01:00:00         55.2          16.98      3024.41     563.965   \n",
       "2  2017-03-10 01:00:00         55.2          16.98      3043.46     568.054   \n",
       "3  2017-03-10 01:00:00         55.2          16.98      3047.36     568.665   \n",
       "4  2017-03-10 01:00:00         55.2          16.98      3033.69     558.167   \n",
       "\n",
       "   Ore Pulp Flow  Ore Pulp pH  Ore Pulp Density  Flotation Column 01 Air Flow  \\\n",
       "0        395.713      10.0664              1.74                       249.214   \n",
       "1        397.383      10.0672              1.74                       249.719   \n",
       "2        399.668      10.0680              1.74                       249.741   \n",
       "3        397.939      10.0689              1.74                       249.917   \n",
       "4        400.254      10.0697              1.74                       250.203   \n",
       "\n",
       "   Flotation Column 02 Air Flow  ...  Flotation Column 07 Air Flow  \\\n",
       "0                       253.235  ...                       250.884   \n",
       "1                       250.532  ...                       248.994   \n",
       "2                       247.874  ...                       248.071   \n",
       "3                       254.487  ...                       251.147   \n",
       "4                       252.136  ...                       248.928   \n",
       "\n",
       "   Flotation Column 01 Level  Flotation Column 02 Level  \\\n",
       "0                    457.396                    432.962   \n",
       "1                    451.891                    429.560   \n",
       "2                    451.240                    468.927   \n",
       "3                    452.441                    458.165   \n",
       "4                    452.441                    452.900   \n",
       "\n",
       "   Flotation Column 03 Level  Flotation Column 04 Level  \\\n",
       "0                    424.954                    443.558   \n",
       "1                    432.939                    448.086   \n",
       "2                    434.610                    449.688   \n",
       "3                    442.865                    446.210   \n",
       "4                    450.523                    453.670   \n",
       "\n",
       "   Flotation Column 05 Level  Flotation Column 06 Level  \\\n",
       "0                    502.255                    446.370   \n",
       "1                    496.363                    445.922   \n",
       "2                    484.411                    447.826   \n",
       "3                    471.411                    437.690   \n",
       "4                    462.598                    443.682   \n",
       "\n",
       "   Flotation Column 07 Level  % Iron Concentrate  % Silica Concentrate  \n",
       "0                    523.344               66.91                  1.31  \n",
       "1                    498.075               66.91                  1.31  \n",
       "2                    458.567               66.91                  1.31  \n",
       "3                    427.669               66.91                  1.31  \n",
       "4                    425.679               66.91                  1.31  \n",
       "\n",
       "[5 rows x 24 columns]"
      ]
     },
     "execution_count": 3,
     "metadata": {},
     "output_type": "execute_result"
    }
   ],
   "source": [
    "# primeras filas\n",
    "data.head()"
   ]
  },
  {
   "cell_type": "code",
   "execution_count": 4,
   "id": "8f3c05de",
   "metadata": {},
   "outputs": [
    {
     "data": {
      "text/plain": [
       "(737453, 24)"
      ]
     },
     "execution_count": 4,
     "metadata": {},
     "output_type": "execute_result"
    }
   ],
   "source": [
    "# numero de registros y numero de columnas\n",
    "data.shape"
   ]
  },
  {
   "cell_type": "markdown",
   "id": "240b3ca5",
   "metadata": {},
   "source": [
    "### Creacion de nuevas variables temporales "
   ]
  },
  {
   "cell_type": "code",
   "execution_count": 5,
   "id": "18c31b74",
   "metadata": {},
   "outputs": [],
   "source": [
    "# columna date a to_datetime  agregamos algunas columnas relacionadas con la fecha\n",
    "data['date'] = pd.to_datetime(data['date'], yearfirst = True)\n",
    "data['year'] = data['date'].dt.year\n",
    "data['month'] = data['date'].dt.month\n",
    "data['day'] = data['date'].dt.day\n",
    "data['time'] = data['date'].dt.time\n",
    "data['hour'] = data['date'].dt.hour\n",
    "data['fecha'] = data['date'].dt.date\n",
    "# transformacion de mes - dia a numero\n",
    "data['month_day_aux'] = data['date'].dt.month * 100 + data['date'].dt.day"
   ]
  },
  {
   "cell_type": "code",
   "execution_count": 42,
   "id": "04e5ac78",
   "metadata": {
    "scrolled": true
   },
   "outputs": [
    {
     "name": "stdout",
     "output_type": "stream",
     "text": [
      "<class 'pandas.core.frame.DataFrame'>\n",
      "RangeIndex: 737453 entries, 0 to 737452\n",
      "Data columns (total 31 columns):\n",
      " #   Column                        Non-Null Count   Dtype         \n",
      "---  ------                        --------------   -----         \n",
      " 0   date                          737453 non-null  datetime64[ns]\n",
      " 1   % Iron Feed                   737453 non-null  float64       \n",
      " 2   % Silica Feed                 737453 non-null  float64       \n",
      " 3   Starch Flow                   737453 non-null  float64       \n",
      " 4   Amina Flow                    737453 non-null  float64       \n",
      " 5   Ore Pulp Flow                 737453 non-null  float64       \n",
      " 6   Ore Pulp pH                   737453 non-null  float64       \n",
      " 7   Ore Pulp Density              737453 non-null  float64       \n",
      " 8   Flotation Column 01 Air Flow  737453 non-null  float64       \n",
      " 9   Flotation Column 02 Air Flow  737453 non-null  float64       \n",
      " 10  Flotation Column 03 Air Flow  737453 non-null  float64       \n",
      " 11  Flotation Column 04 Air Flow  737453 non-null  float64       \n",
      " 12  Flotation Column 05 Air Flow  737453 non-null  float64       \n",
      " 13  Flotation Column 06 Air Flow  737453 non-null  float64       \n",
      " 14  Flotation Column 07 Air Flow  737453 non-null  float64       \n",
      " 15  Flotation Column 01 Level     737453 non-null  float64       \n",
      " 16  Flotation Column 02 Level     737453 non-null  float64       \n",
      " 17  Flotation Column 03 Level     737453 non-null  float64       \n",
      " 18  Flotation Column 04 Level     737453 non-null  float64       \n",
      " 19  Flotation Column 05 Level     737453 non-null  float64       \n",
      " 20  Flotation Column 06 Level     737453 non-null  float64       \n",
      " 21  Flotation Column 07 Level     737453 non-null  float64       \n",
      " 22  % Iron Concentrate            737453 non-null  float64       \n",
      " 23  % Silica Concentrate          737453 non-null  float64       \n",
      " 24  year                          737453 non-null  int64         \n",
      " 25  month                         737453 non-null  int64         \n",
      " 26  day                           737453 non-null  int64         \n",
      " 27  time                          737453 non-null  object        \n",
      " 28  hour                          737453 non-null  int64         \n",
      " 29  fecha                         737453 non-null  object        \n",
      " 30  month_day_aux                 737453 non-null  int64         \n",
      "dtypes: datetime64[ns](1), float64(23), int64(5), object(2)\n",
      "memory usage: 174.4+ MB\n"
     ]
    }
   ],
   "source": [
    "# informacion general\n",
    "data.info()"
   ]
  },
  {
   "cell_type": "markdown",
   "id": "0318e34d",
   "metadata": {},
   "source": [
    "### Algunas medidas descriptivas"
   ]
  },
  {
   "cell_type": "code",
   "execution_count": 7,
   "id": "ca544dc9",
   "metadata": {},
   "outputs": [
    {
     "data": {
      "text/html": [
       "<div>\n",
       "<style scoped>\n",
       "    .dataframe tbody tr th:only-of-type {\n",
       "        vertical-align: middle;\n",
       "    }\n",
       "\n",
       "    .dataframe tbody tr th {\n",
       "        vertical-align: top;\n",
       "    }\n",
       "\n",
       "    .dataframe thead th {\n",
       "        text-align: right;\n",
       "    }\n",
       "</style>\n",
       "<table border=\"1\" class=\"dataframe\">\n",
       "  <thead>\n",
       "    <tr style=\"text-align: right;\">\n",
       "      <th></th>\n",
       "      <th>% Iron Feed</th>\n",
       "      <th>% Silica Feed</th>\n",
       "      <th>Starch Flow</th>\n",
       "      <th>Amina Flow</th>\n",
       "      <th>Ore Pulp Flow</th>\n",
       "      <th>Ore Pulp pH</th>\n",
       "      <th>Ore Pulp Density</th>\n",
       "    </tr>\n",
       "  </thead>\n",
       "  <tbody>\n",
       "    <tr>\n",
       "      <th>count</th>\n",
       "      <td>737453.000000</td>\n",
       "      <td>737453.000000</td>\n",
       "      <td>737453.000000</td>\n",
       "      <td>737453.000000</td>\n",
       "      <td>737453.000000</td>\n",
       "      <td>737453.000000</td>\n",
       "      <td>737453.000000</td>\n",
       "    </tr>\n",
       "    <tr>\n",
       "      <th>mean</th>\n",
       "      <td>56.294739</td>\n",
       "      <td>14.651716</td>\n",
       "      <td>2869.140569</td>\n",
       "      <td>488.144697</td>\n",
       "      <td>397.578372</td>\n",
       "      <td>9.767639</td>\n",
       "      <td>1.680380</td>\n",
       "    </tr>\n",
       "    <tr>\n",
       "      <th>std</th>\n",
       "      <td>5.157744</td>\n",
       "      <td>6.807439</td>\n",
       "      <td>1215.203734</td>\n",
       "      <td>91.230534</td>\n",
       "      <td>9.699785</td>\n",
       "      <td>0.387007</td>\n",
       "      <td>0.069249</td>\n",
       "    </tr>\n",
       "    <tr>\n",
       "      <th>min</th>\n",
       "      <td>42.740000</td>\n",
       "      <td>1.310000</td>\n",
       "      <td>0.002026</td>\n",
       "      <td>241.669000</td>\n",
       "      <td>376.249000</td>\n",
       "      <td>8.753340</td>\n",
       "      <td>1.519820</td>\n",
       "    </tr>\n",
       "    <tr>\n",
       "      <th>25%</th>\n",
       "      <td>52.670000</td>\n",
       "      <td>8.940000</td>\n",
       "      <td>2076.320000</td>\n",
       "      <td>431.796000</td>\n",
       "      <td>394.264000</td>\n",
       "      <td>9.527360</td>\n",
       "      <td>1.647310</td>\n",
       "    </tr>\n",
       "    <tr>\n",
       "      <th>50%</th>\n",
       "      <td>56.080000</td>\n",
       "      <td>13.850000</td>\n",
       "      <td>3018.430000</td>\n",
       "      <td>504.393000</td>\n",
       "      <td>399.249000</td>\n",
       "      <td>9.798100</td>\n",
       "      <td>1.697600</td>\n",
       "    </tr>\n",
       "    <tr>\n",
       "      <th>75%</th>\n",
       "      <td>59.720000</td>\n",
       "      <td>19.600000</td>\n",
       "      <td>3727.730000</td>\n",
       "      <td>553.257000</td>\n",
       "      <td>402.968000</td>\n",
       "      <td>10.038000</td>\n",
       "      <td>1.728330</td>\n",
       "    </tr>\n",
       "    <tr>\n",
       "      <th>max</th>\n",
       "      <td>65.780000</td>\n",
       "      <td>33.400000</td>\n",
       "      <td>6300.230000</td>\n",
       "      <td>739.538000</td>\n",
       "      <td>418.641000</td>\n",
       "      <td>10.808100</td>\n",
       "      <td>1.853250</td>\n",
       "    </tr>\n",
       "  </tbody>\n",
       "</table>\n",
       "</div>"
      ],
      "text/plain": [
       "         % Iron Feed  % Silica Feed    Starch Flow     Amina Flow  \\\n",
       "count  737453.000000  737453.000000  737453.000000  737453.000000   \n",
       "mean       56.294739      14.651716    2869.140569     488.144697   \n",
       "std         5.157744       6.807439    1215.203734      91.230534   \n",
       "min        42.740000       1.310000       0.002026     241.669000   \n",
       "25%        52.670000       8.940000    2076.320000     431.796000   \n",
       "50%        56.080000      13.850000    3018.430000     504.393000   \n",
       "75%        59.720000      19.600000    3727.730000     553.257000   \n",
       "max        65.780000      33.400000    6300.230000     739.538000   \n",
       "\n",
       "       Ore Pulp Flow    Ore Pulp pH  Ore Pulp Density  \n",
       "count  737453.000000  737453.000000     737453.000000  \n",
       "mean      397.578372       9.767639          1.680380  \n",
       "std         9.699785       0.387007          0.069249  \n",
       "min       376.249000       8.753340          1.519820  \n",
       "25%       394.264000       9.527360          1.647310  \n",
       "50%       399.249000       9.798100          1.697600  \n",
       "75%       402.968000      10.038000          1.728330  \n",
       "max       418.641000      10.808100          1.853250  "
      ]
     },
     "execution_count": 7,
     "metadata": {},
     "output_type": "execute_result"
    }
   ],
   "source": [
    "data.iloc[:, :8].describe()"
   ]
  },
  {
   "cell_type": "code",
   "execution_count": 8,
   "id": "c52555e1",
   "metadata": {},
   "outputs": [
    {
     "data": {
      "image/png": "[encoded data removed]",
      "text/plain": [
       "<Figure size 1080x360 with 8 Axes>"
      ]
     },
     "metadata": {
      "needs_background": "light"
     },
     "output_type": "display_data"
    }
   ],
   "source": [
    "fig, axs = plt.subplots(2, 4, figsize = (15, 5))\n",
    "axs[0,0].boxplot(data['% Iron Feed']);\n",
    "axs[0,1].boxplot(data['% Silica Feed']);\n",
    "axs[0,2].boxplot(data['Starch Flow']);\n",
    "axs[0,3].boxplot(data['Amina Flow']);\n",
    "\n",
    "axs[1,0].boxplot(data['Ore Pulp Flow']);\n",
    "axs[1,1].boxplot(data['Ore Pulp pH']);\n",
    "axs[1,2].boxplot(data['Ore Pulp Density']);"
   ]
  },
  {
   "cell_type": "code",
   "execution_count": 9,
   "id": "059c72af",
   "metadata": {},
   "outputs": [
    {
     "data": {
      "text/html": [
       "<div>\n",
       "<style scoped>\n",
       "    .dataframe tbody tr th:only-of-type {\n",
       "        vertical-align: middle;\n",
       "    }\n",
       "\n",
       "    .dataframe tbody tr th {\n",
       "        vertical-align: top;\n",
       "    }\n",
       "\n",
       "    .dataframe thead th {\n",
       "        text-align: right;\n",
       "    }\n",
       "</style>\n",
       "<table border=\"1\" class=\"dataframe\">\n",
       "  <thead>\n",
       "    <tr style=\"text-align: right;\">\n",
       "      <th></th>\n",
       "      <th>Flotation Column 01 Air Flow</th>\n",
       "      <th>Flotation Column 02 Air Flow</th>\n",
       "      <th>Flotation Column 03 Air Flow</th>\n",
       "      <th>Flotation Column 04 Air Flow</th>\n",
       "      <th>Flotation Column 05 Air Flow</th>\n",
       "      <th>Flotation Column 06 Air Flow</th>\n",
       "      <th>Flotation Column 07 Air Flow</th>\n",
       "    </tr>\n",
       "  </thead>\n",
       "  <tbody>\n",
       "    <tr>\n",
       "      <th>count</th>\n",
       "      <td>737453.000000</td>\n",
       "      <td>737453.000000</td>\n",
       "      <td>737453.000000</td>\n",
       "      <td>737453.000000</td>\n",
       "      <td>737453.000000</td>\n",
       "      <td>737453.000000</td>\n",
       "      <td>737453.000000</td>\n",
       "    </tr>\n",
       "    <tr>\n",
       "      <th>mean</th>\n",
       "      <td>280.151856</td>\n",
       "      <td>277.159965</td>\n",
       "      <td>281.082397</td>\n",
       "      <td>299.447794</td>\n",
       "      <td>299.917814</td>\n",
       "      <td>292.071485</td>\n",
       "      <td>290.754856</td>\n",
       "    </tr>\n",
       "    <tr>\n",
       "      <th>std</th>\n",
       "      <td>29.621288</td>\n",
       "      <td>30.149357</td>\n",
       "      <td>28.558268</td>\n",
       "      <td>2.572538</td>\n",
       "      <td>3.636579</td>\n",
       "      <td>30.217804</td>\n",
       "      <td>28.670105</td>\n",
       "    </tr>\n",
       "    <tr>\n",
       "      <th>min</th>\n",
       "      <td>175.510000</td>\n",
       "      <td>175.156000</td>\n",
       "      <td>176.469000</td>\n",
       "      <td>292.195000</td>\n",
       "      <td>286.295000</td>\n",
       "      <td>189.928000</td>\n",
       "      <td>185.962000</td>\n",
       "    </tr>\n",
       "    <tr>\n",
       "      <th>25%</th>\n",
       "      <td>250.281000</td>\n",
       "      <td>250.457000</td>\n",
       "      <td>250.855000</td>\n",
       "      <td>298.262566</td>\n",
       "      <td>298.068000</td>\n",
       "      <td>262.541000</td>\n",
       "      <td>256.302000</td>\n",
       "    </tr>\n",
       "    <tr>\n",
       "      <th>50%</th>\n",
       "      <td>299.344000</td>\n",
       "      <td>296.223000</td>\n",
       "      <td>298.696000</td>\n",
       "      <td>299.805000</td>\n",
       "      <td>299.887120</td>\n",
       "      <td>299.477000</td>\n",
       "      <td>299.011000</td>\n",
       "    </tr>\n",
       "    <tr>\n",
       "      <th>75%</th>\n",
       "      <td>300.149000</td>\n",
       "      <td>300.690000</td>\n",
       "      <td>300.382000</td>\n",
       "      <td>300.638000</td>\n",
       "      <td>301.791137</td>\n",
       "      <td>303.061000</td>\n",
       "      <td>301.904000</td>\n",
       "    </tr>\n",
       "    <tr>\n",
       "      <th>max</th>\n",
       "      <td>373.871000</td>\n",
       "      <td>375.992000</td>\n",
       "      <td>364.346000</td>\n",
       "      <td>305.871000</td>\n",
       "      <td>310.270000</td>\n",
       "      <td>370.910000</td>\n",
       "      <td>371.593000</td>\n",
       "    </tr>\n",
       "  </tbody>\n",
       "</table>\n",
       "</div>"
      ],
      "text/plain": [
       "       Flotation Column 01 Air Flow  Flotation Column 02 Air Flow  \\\n",
       "count                 737453.000000                 737453.000000   \n",
       "mean                     280.151856                    277.159965   \n",
       "std                       29.621288                     30.149357   \n",
       "min                      175.510000                    175.156000   \n",
       "25%                      250.281000                    250.457000   \n",
       "50%                      299.344000                    296.223000   \n",
       "75%                      300.149000                    300.690000   \n",
       "max                      373.871000                    375.992000   \n",
       "\n",
       "       Flotation Column 03 Air Flow  Flotation Column 04 Air Flow  \\\n",
       "count                 737453.000000                 737453.000000   \n",
       "mean                     281.082397                    299.447794   \n",
       "std                       28.558268                      2.572538   \n",
       "min                      176.469000                    292.195000   \n",
       "25%                      250.855000                    298.262566   \n",
       "50%                      298.696000                    299.805000   \n",
       "75%                      300.382000                    300.638000   \n",
       "max                      364.346000                    305.871000   \n",
       "\n",
       "       Flotation Column 05 Air Flow  Flotation Column 06 Air Flow  \\\n",
       "count                 737453.000000                 737453.000000   \n",
       "mean                     299.917814                    292.071485   \n",
       "std                        3.636579                     30.217804   \n",
       "min                      286.295000                    189.928000   \n",
       "25%                      298.068000                    262.541000   \n",
       "50%                      299.887120                    299.477000   \n",
       "75%                      301.791137                    303.061000   \n",
       "max                      310.270000                    370.910000   \n",
       "\n",
       "       Flotation Column 07 Air Flow  \n",
       "count                 737453.000000  \n",
       "mean                     290.754856  \n",
       "std                       28.670105  \n",
       "min                      185.962000  \n",
       "25%                      256.302000  \n",
       "50%                      299.011000  \n",
       "75%                      301.904000  \n",
       "max                      371.593000  "
      ]
     },
     "execution_count": 9,
     "metadata": {},
     "output_type": "execute_result"
    }
   ],
   "source": [
    "data.iloc[:, 8:15].describe()"
   ]
  },
  {
   "cell_type": "code",
   "execution_count": 10,
   "id": "f7106783",
   "metadata": {},
   "outputs": [
    {
     "data": {
      "image/png": "[encoded data removed]",
      "text/plain": [
       "<Figure size 1080x360 with 8 Axes>"
      ]
     },
     "metadata": {
      "needs_background": "light"
     },
     "output_type": "display_data"
    }
   ],
   "source": [
    "fig, axs = plt.subplots(2, 4, figsize = (15, 5))\n",
    "axs[0,0].boxplot(data['Flotation Column 01 Air Flow']);\n",
    "axs[0,1].boxplot(data['Flotation Column 02 Air Flow']);\n",
    "axs[0,2].boxplot(data['Flotation Column 03 Air Flow']);\n",
    "axs[0,3].boxplot(data['Flotation Column 04 Air Flow']);\n",
    "\n",
    "axs[1,0].boxplot(data['Flotation Column 05 Air Flow']);\n",
    "axs[1,1].boxplot(data['Flotation Column 06 Air Flow']);\n",
    "axs[1,2].boxplot(data['Flotation Column 07 Air Flow']);"
   ]
  },
  {
   "cell_type": "code",
   "execution_count": 11,
   "id": "a1e80553",
   "metadata": {},
   "outputs": [
    {
     "data": {
      "text/html": [
       "<div>\n",
       "<style scoped>\n",
       "    .dataframe tbody tr th:only-of-type {\n",
       "        vertical-align: middle;\n",
       "    }\n",
       "\n",
       "    .dataframe tbody tr th {\n",
       "        vertical-align: top;\n",
       "    }\n",
       "\n",
       "    .dataframe thead th {\n",
       "        text-align: right;\n",
       "    }\n",
       "</style>\n",
       "<table border=\"1\" class=\"dataframe\">\n",
       "  <thead>\n",
       "    <tr style=\"text-align: right;\">\n",
       "      <th></th>\n",
       "      <th>Flotation Column 01 Level</th>\n",
       "      <th>Flotation Column 02 Level</th>\n",
       "      <th>Flotation Column 03 Level</th>\n",
       "      <th>Flotation Column 04 Level</th>\n",
       "      <th>Flotation Column 05 Level</th>\n",
       "      <th>Flotation Column 06 Level</th>\n",
       "      <th>Flotation Column 07 Level</th>\n",
       "    </tr>\n",
       "  </thead>\n",
       "  <tbody>\n",
       "    <tr>\n",
       "      <th>count</th>\n",
       "      <td>737453.000000</td>\n",
       "      <td>737453.000000</td>\n",
       "      <td>737453.000000</td>\n",
       "      <td>737453.000000</td>\n",
       "      <td>737453.000000</td>\n",
       "      <td>737453.000000</td>\n",
       "      <td>737453.000000</td>\n",
       "    </tr>\n",
       "    <tr>\n",
       "      <th>mean</th>\n",
       "      <td>520.244823</td>\n",
       "      <td>522.649555</td>\n",
       "      <td>531.352662</td>\n",
       "      <td>420.320973</td>\n",
       "      <td>425.251706</td>\n",
       "      <td>429.941018</td>\n",
       "      <td>421.021231</td>\n",
       "    </tr>\n",
       "    <tr>\n",
       "      <th>std</th>\n",
       "      <td>131.014924</td>\n",
       "      <td>128.165050</td>\n",
       "      <td>150.842164</td>\n",
       "      <td>91.794432</td>\n",
       "      <td>84.535822</td>\n",
       "      <td>89.862225</td>\n",
       "      <td>84.891491</td>\n",
       "    </tr>\n",
       "    <tr>\n",
       "      <th>min</th>\n",
       "      <td>149.218000</td>\n",
       "      <td>210.752000</td>\n",
       "      <td>126.255000</td>\n",
       "      <td>162.201000</td>\n",
       "      <td>166.991000</td>\n",
       "      <td>155.841000</td>\n",
       "      <td>175.349000</td>\n",
       "    </tr>\n",
       "    <tr>\n",
       "      <th>25%</th>\n",
       "      <td>416.978000</td>\n",
       "      <td>441.883000</td>\n",
       "      <td>411.325000</td>\n",
       "      <td>356.679000</td>\n",
       "      <td>357.653000</td>\n",
       "      <td>358.497000</td>\n",
       "      <td>356.772000</td>\n",
       "    </tr>\n",
       "    <tr>\n",
       "      <th>50%</th>\n",
       "      <td>491.878000</td>\n",
       "      <td>495.956000</td>\n",
       "      <td>494.318000</td>\n",
       "      <td>411.974000</td>\n",
       "      <td>408.773000</td>\n",
       "      <td>424.664575</td>\n",
       "      <td>411.065000</td>\n",
       "    </tr>\n",
       "    <tr>\n",
       "      <th>75%</th>\n",
       "      <td>594.114000</td>\n",
       "      <td>595.464000</td>\n",
       "      <td>601.249000</td>\n",
       "      <td>485.549000</td>\n",
       "      <td>484.329000</td>\n",
       "      <td>492.684000</td>\n",
       "      <td>476.465000</td>\n",
       "    </tr>\n",
       "    <tr>\n",
       "      <th>max</th>\n",
       "      <td>862.274000</td>\n",
       "      <td>828.919000</td>\n",
       "      <td>886.822000</td>\n",
       "      <td>680.359000</td>\n",
       "      <td>675.644000</td>\n",
       "      <td>698.861000</td>\n",
       "      <td>659.902000</td>\n",
       "    </tr>\n",
       "  </tbody>\n",
       "</table>\n",
       "</div>"
      ],
      "text/plain": [
       "       Flotation Column 01 Level  Flotation Column 02 Level  \\\n",
       "count              737453.000000              737453.000000   \n",
       "mean                  520.244823                 522.649555   \n",
       "std                   131.014924                 128.165050   \n",
       "min                   149.218000                 210.752000   \n",
       "25%                   416.978000                 441.883000   \n",
       "50%                   491.878000                 495.956000   \n",
       "75%                   594.114000                 595.464000   \n",
       "max                   862.274000                 828.919000   \n",
       "\n",
       "       Flotation Column 03 Level  Flotation Column 04 Level  \\\n",
       "count              737453.000000              737453.000000   \n",
       "mean                  531.352662                 420.320973   \n",
       "std                   150.842164                  91.794432   \n",
       "min                   126.255000                 162.201000   \n",
       "25%                   411.325000                 356.679000   \n",
       "50%                   494.318000                 411.974000   \n",
       "75%                   601.249000                 485.549000   \n",
       "max                   886.822000                 680.359000   \n",
       "\n",
       "       Flotation Column 05 Level  Flotation Column 06 Level  \\\n",
       "count              737453.000000              737453.000000   \n",
       "mean                  425.251706                 429.941018   \n",
       "std                    84.535822                  89.862225   \n",
       "min                   166.991000                 155.841000   \n",
       "25%                   357.653000                 358.497000   \n",
       "50%                   408.773000                 424.664575   \n",
       "75%                   484.329000                 492.684000   \n",
       "max                   675.644000                 698.861000   \n",
       "\n",
       "       Flotation Column 07 Level  \n",
       "count              737453.000000  \n",
       "mean                  421.021231  \n",
       "std                    84.891491  \n",
       "min                   175.349000  \n",
       "25%                   356.772000  \n",
       "50%                   411.065000  \n",
       "75%                   476.465000  \n",
       "max                   659.902000  "
      ]
     },
     "execution_count": 11,
     "metadata": {},
     "output_type": "execute_result"
    }
   ],
   "source": [
    "data.iloc[:, 15:22].describe()"
   ]
  },
  {
   "cell_type": "code",
   "execution_count": 12,
   "id": "3806a206",
   "metadata": {},
   "outputs": [
    {
     "data": {
      "image/png": "[encoded data removed]",
      "text/plain": [
       "<Figure size 1080x360 with 8 Axes>"
      ]
     },
     "metadata": {
      "needs_background": "light"
     },
     "output_type": "display_data"
    }
   ],
   "source": [
    "fig, axs = plt.subplots(2, 4, figsize = (15, 5))\n",
    "axs[0,0].boxplot(data['Flotation Column 01 Level']);\n",
    "axs[0,1].boxplot(data['Flotation Column 02 Level']);\n",
    "axs[0,2].boxplot(data['Flotation Column 03 Level']);\n",
    "axs[0,3].boxplot(data['Flotation Column 04 Level']);\n",
    "\n",
    "axs[1,0].boxplot(data['Flotation Column 05 Level']);\n",
    "axs[1,1].boxplot(data['Flotation Column 06 Level']);\n",
    "axs[1,2].boxplot(data['Flotation Column 07 Level']);"
   ]
  },
  {
   "cell_type": "code",
   "execution_count": 13,
   "id": "b2debef7",
   "metadata": {},
   "outputs": [
    {
     "data": {
      "text/html": [
       "<div>\n",
       "<style scoped>\n",
       "    .dataframe tbody tr th:only-of-type {\n",
       "        vertical-align: middle;\n",
       "    }\n",
       "\n",
       "    .dataframe tbody tr th {\n",
       "        vertical-align: top;\n",
       "    }\n",
       "\n",
       "    .dataframe thead th {\n",
       "        text-align: right;\n",
       "    }\n",
       "</style>\n",
       "<table border=\"1\" class=\"dataframe\">\n",
       "  <thead>\n",
       "    <tr style=\"text-align: right;\">\n",
       "      <th></th>\n",
       "      <th>% Iron Concentrate</th>\n",
       "      <th>% Silica Concentrate</th>\n",
       "    </tr>\n",
       "  </thead>\n",
       "  <tbody>\n",
       "    <tr>\n",
       "      <th>count</th>\n",
       "      <td>737453.000000</td>\n",
       "      <td>737453.000000</td>\n",
       "    </tr>\n",
       "    <tr>\n",
       "      <th>mean</th>\n",
       "      <td>65.050068</td>\n",
       "      <td>2.326763</td>\n",
       "    </tr>\n",
       "    <tr>\n",
       "      <th>std</th>\n",
       "      <td>1.118645</td>\n",
       "      <td>1.125554</td>\n",
       "    </tr>\n",
       "    <tr>\n",
       "      <th>min</th>\n",
       "      <td>62.050000</td>\n",
       "      <td>0.600000</td>\n",
       "    </tr>\n",
       "    <tr>\n",
       "      <th>25%</th>\n",
       "      <td>64.370000</td>\n",
       "      <td>1.440000</td>\n",
       "    </tr>\n",
       "    <tr>\n",
       "      <th>50%</th>\n",
       "      <td>65.210000</td>\n",
       "      <td>2.000000</td>\n",
       "    </tr>\n",
       "    <tr>\n",
       "      <th>75%</th>\n",
       "      <td>65.860000</td>\n",
       "      <td>3.010000</td>\n",
       "    </tr>\n",
       "    <tr>\n",
       "      <th>max</th>\n",
       "      <td>68.010000</td>\n",
       "      <td>5.530000</td>\n",
       "    </tr>\n",
       "  </tbody>\n",
       "</table>\n",
       "</div>"
      ],
      "text/plain": [
       "       % Iron Concentrate  % Silica Concentrate\n",
       "count       737453.000000         737453.000000\n",
       "mean            65.050068              2.326763\n",
       "std              1.118645              1.125554\n",
       "min             62.050000              0.600000\n",
       "25%             64.370000              1.440000\n",
       "50%             65.210000              2.000000\n",
       "75%             65.860000              3.010000\n",
       "max             68.010000              5.530000"
      ]
     },
     "execution_count": 13,
     "metadata": {},
     "output_type": "execute_result"
    }
   ],
   "source": [
    "data.iloc[:, 22:24].describe()"
   ]
  },
  {
   "cell_type": "code",
   "execution_count": 14,
   "id": "8faa33c6",
   "metadata": {},
   "outputs": [
    {
     "data": {
      "image/png": "[encoded data removed]",
      "text/plain": [
       "<Figure size 432x288 with 4 Axes>"
      ]
     },
     "metadata": {
      "needs_background": "light"
     },
     "output_type": "display_data"
    }
   ],
   "source": [
    "fig, axs = plt.subplots(2, 2)\n",
    "axs[0,0].hist(data['% Iron Concentrate']);\n",
    "axs[0,1].hist(data['% Silica Concentrate']);\n",
    "axs[1,0].boxplot(data['% Iron Concentrate']);\n",
    "axs[1,1].boxplot(data['% Silica Concentrate']);"
   ]
  },
  {
   "cell_type": "markdown",
   "id": "9f307a50",
   "metadata": {},
   "source": [
    "Algunos comentarios:\\\n",
    "    - Se observa presencia de outliers y asimetria para algunas variables explicactivas.\\\n",
    "\t- La variable objectivo, % concentracion silica, luce levemente asimetrica con algunos outliers\\\n",
    "\n",
    "Como hay variables que se miden cada 20seg y otras cada 1 hora, voy a agregar la informacion en los datos.  Como hay algunas asimetrias en las variables explicativas, usare la media y mediana para hacer esta agregacion."
   ]
  },
  {
   "cell_type": "markdown",
   "id": "bb14dae5",
   "metadata": {},
   "source": [
    "## 2. Agregamos % concentracion silica con distintas unidades temporales"
   ]
  },
  {
   "cell_type": "code",
   "execution_count": 282,
   "id": "b03a7d03",
   "metadata": {},
   "outputs": [],
   "source": [
    "# agregacion a nivel de fecha y hora\n",
    "data_agg_fecha_hora = data.groupby(['date'])['% Silica Concentrate'].agg(['mean', 'median']).reset_index() \n",
    "# agregacion a nivel de hora \n",
    "data_agg_hora = data.groupby(['hour'])['% Silica Concentrate'].agg(['mean', 'median']).reset_index() \n",
    "# agregacion a nivel de fecha y hora (auxiliar)\n",
    "data_agg_fecha_hora2 = data.groupby(['fecha', 'hour'])['% Silica Concentrate'].agg(['mean']).reset_index() "
   ]
  },
  {
   "cell_type": "markdown",
   "id": "8ee10377",
   "metadata": {},
   "source": [
    "## 3. Evoluacion Temporal de % de concentracion silice y discusion de metodologias"
   ]
  },
  {
   "cell_type": "markdown",
   "id": "b3d89a61",
   "metadata": {},
   "source": [
    "### Evolucion historica a nivel de dia y hora"
   ]
  },
  {
   "cell_type": "code",
   "execution_count": 284,
   "id": "968907ab",
   "metadata": {},
   "outputs": [
    {
     "data": {
      "image/png": "[encoded data removed]",
      "text/plain": [
       "<Figure size 720x360 with 2 Axes>"
      ]
     },
     "metadata": {
      "needs_background": "light"
     },
     "output_type": "display_data"
    }
   ],
   "source": [
    "fig, (ax1, ax2) = plt.subplots(2, 1, figsize = (10, 5))\n",
    "ax1.plot(data_agg_fecha_hora.date, data_agg_fecha_hora.iloc[:, 1]); # media\n",
    "ax2.plot(data_agg_fecha_hora.date, data_agg_fecha_hora.iloc[:, 2]); # mediana"
   ]
  },
  {
   "cell_type": "markdown",
   "id": "2ccd5a09",
   "metadata": {},
   "source": [
    "Comentarios:\\\n",
    "    - no hay diferencias entre media y mediana a nivel dia-hora\\\n",
    "    - no se observan grandes tendencias o estacionalidades"
   ]
  },
  {
   "cell_type": "markdown",
   "id": "11e5f105",
   "metadata": {},
   "source": [
    "###  Evolucion a nivel de hora"
   ]
  },
  {
   "cell_type": "code",
   "execution_count": 17,
   "id": "627684e3",
   "metadata": {},
   "outputs": [],
   "source": [
    "data_agg_hora = data.groupby(['hour'])['% Silica Concentrate'].agg(['mean', 'median']).reset_index() # name = ['silica_mean', 'silica_median']"
   ]
  },
  {
   "cell_type": "code",
   "execution_count": 286,
   "id": "05be27d5",
   "metadata": {},
   "outputs": [
    {
     "data": {
      "image/png": "[encoded data removed]",
      "text/plain": [
       "<Figure size 720x216 with 2 Axes>"
      ]
     },
     "metadata": {
      "needs_background": "light"
     },
     "output_type": "display_data"
    }
   ],
   "source": [
    "fig, (ax1, ax2) = plt.subplots(1, 2, figsize = (10, 3))\n",
    "ax1.plot(data_agg_hora.hour, data_agg_hora.iloc[:, 1]);\n",
    "ax2.plot(data_agg_hora.hour, data_agg_hora.iloc[:, 2]);"
   ]
  },
  {
   "cell_type": "markdown",
   "id": "1a6e4837",
   "metadata": {},
   "source": [
    "Comentario:\n",
    "\n",
    "    - se ve patron de tendencia al alza y luego a la baja\n",
    "\n",
    "Discusion de modelamiento:\n",
    "\n",
    "Ya que es de interes analizar el % de concentracion silica a nivel de horas y también interesa saber como otras variables explican el % de concentracion silica voy a usar modelos de regresion. Modelo agregados como xgboost, lightGBM, entre otros, conocidos por su grande nivel de desempeño son los consideraré ya que la componente temporal (evolucion de % de concentracion silice durante el dia) se \"pierde\"."
   ]
  },
  {
   "cell_type": "markdown",
   "id": "dc6b39b4",
   "metadata": {},
   "source": [
    "## 4. Analisis estadistico"
   ]
  },
  {
   "cell_type": "markdown",
   "id": "eb654bfb",
   "metadata": {},
   "source": [
    "Los datos los voy a agregar por dia y hora usando la media de cada variable ya que a nivel dia-hora la diferencia con la mediana es pequena."
   ]
  },
  {
   "cell_type": "markdown",
   "id": "b5da34b3",
   "metadata": {},
   "source": [
    "### Preparamos la data a usar"
   ]
  },
  {
   "cell_type": "code",
   "execution_count": 21,
   "id": "9c8cb6ea",
   "metadata": {},
   "outputs": [],
   "source": [
    "variables = ['month_day_aux', 'hour',\n",
    "             '% Iron Feed', '% Silica Feed', 'Starch Flow', 'Amina Flow',\n",
    "       'Ore Pulp Flow', 'Ore Pulp pH', 'Ore Pulp Density',\n",
    "       'Flotation Column 01 Air Flow', 'Flotation Column 02 Air Flow',\n",
    "       'Flotation Column 03 Air Flow', 'Flotation Column 04 Air Flow',\n",
    "       'Flotation Column 05 Air Flow', 'Flotation Column 06 Air Flow',\n",
    "       'Flotation Column 07 Air Flow', 'Flotation Column 01 Level',\n",
    "       'Flotation Column 02 Level', 'Flotation Column 03 Level',\n",
    "       'Flotation Column 04 Level', 'Flotation Column 05 Level',\n",
    "       'Flotation Column 06 Level', 'Flotation Column 07 Level',\n",
    "       '% Iron Concentrate', '% Silica Concentrate']"
   ]
  },
  {
   "cell_type": "code",
   "execution_count": 49,
   "id": "461dc35a",
   "metadata": {},
   "outputs": [],
   "source": [
    "df = data.groupby(['month_day_aux', 'hour'])[variables[2:(len(variables)+1)]].agg(['mean']).reset_index()\n",
    "df.columns = variables"
   ]
  },
  {
   "cell_type": "code",
   "execution_count": 50,
   "id": "05f5b28c",
   "metadata": {},
   "outputs": [
    {
     "name": "stdout",
     "output_type": "stream",
     "text": [
      "<class 'pandas.core.frame.DataFrame'>\n",
      "RangeIndex: 4097 entries, 0 to 4096\n",
      "Data columns (total 25 columns):\n",
      " #   Column                        Non-Null Count  Dtype  \n",
      "---  ------                        --------------  -----  \n",
      " 0   month_day_aux                 4097 non-null   int64  \n",
      " 1   hour                          4097 non-null   int64  \n",
      " 2   % Iron Feed                   4097 non-null   float64\n",
      " 3   % Silica Feed                 4097 non-null   float64\n",
      " 4   Starch Flow                   4097 non-null   float64\n",
      " 5   Amina Flow                    4097 non-null   float64\n",
      " 6   Ore Pulp Flow                 4097 non-null   float64\n",
      " 7   Ore Pulp pH                   4097 non-null   float64\n",
      " 8   Ore Pulp Density              4097 non-null   float64\n",
      " 9   Flotation Column 01 Air Flow  4097 non-null   float64\n",
      " 10  Flotation Column 02 Air Flow  4097 non-null   float64\n",
      " 11  Flotation Column 03 Air Flow  4097 non-null   float64\n",
      " 12  Flotation Column 04 Air Flow  4097 non-null   float64\n",
      " 13  Flotation Column 05 Air Flow  4097 non-null   float64\n",
      " 14  Flotation Column 06 Air Flow  4097 non-null   float64\n",
      " 15  Flotation Column 07 Air Flow  4097 non-null   float64\n",
      " 16  Flotation Column 01 Level     4097 non-null   float64\n",
      " 17  Flotation Column 02 Level     4097 non-null   float64\n",
      " 18  Flotation Column 03 Level     4097 non-null   float64\n",
      " 19  Flotation Column 04 Level     4097 non-null   float64\n",
      " 20  Flotation Column 05 Level     4097 non-null   float64\n",
      " 21  Flotation Column 06 Level     4097 non-null   float64\n",
      " 22  Flotation Column 07 Level     4097 non-null   float64\n",
      " 23  % Iron Concentrate            4097 non-null   float64\n",
      " 24  % Silica Concentrate          4097 non-null   float64\n",
      "dtypes: float64(23), int64(2)\n",
      "memory usage: 800.3 KB\n"
     ]
    }
   ],
   "source": [
    "df.info()"
   ]
  },
  {
   "cell_type": "markdown",
   "id": "2bfc2f9a",
   "metadata": {},
   "source": [
    "### Repetimos analisis descriptivo previo "
   ]
  },
  {
   "cell_type": "code",
   "execution_count": 24,
   "id": "63488950",
   "metadata": {},
   "outputs": [
    {
     "data": {
      "image/png": "[encoded data removed]",
      "text/plain": [
       "<Figure size 1080x360 with 8 Axes>"
      ]
     },
     "metadata": {
      "needs_background": "light"
     },
     "output_type": "display_data"
    }
   ],
   "source": [
    "fig, axs = plt.subplots(2, 4, figsize = (15, 5))\n",
    "axs[0,0].boxplot(df['% Iron Feed']);\n",
    "axs[0,1].boxplot(df['% Silica Feed']);\n",
    "axs[0,2].boxplot(df['Starch Flow']);\n",
    "axs[0,3].boxplot(df['Amina Flow']);\n",
    "\n",
    "axs[1,0].boxplot(df['Ore Pulp Flow']);\n",
    "axs[1,1].boxplot(df['Ore Pulp pH']);\n",
    "axs[1,2].boxplot(df['Ore Pulp Density']);"
   ]
  },
  {
   "cell_type": "code",
   "execution_count": 25,
   "id": "d7b42209",
   "metadata": {},
   "outputs": [
    {
     "data": {
      "image/png": "[encoded data removed]",
      "text/plain": [
       "<Figure size 1080x360 with 8 Axes>"
      ]
     },
     "metadata": {
      "needs_background": "light"
     },
     "output_type": "display_data"
    }
   ],
   "source": [
    "fig, axs = plt.subplots(2, 4, figsize = (15, 5))\n",
    "axs[0,0].boxplot(df['Flotation Column 01 Air Flow']);\n",
    "axs[0,1].boxplot(df['Flotation Column 02 Air Flow']);\n",
    "axs[0,2].boxplot(df['Flotation Column 03 Air Flow']);\n",
    "axs[0,3].boxplot(df['Flotation Column 04 Air Flow']);\n",
    "\n",
    "axs[1,0].boxplot(df['Flotation Column 05 Air Flow']);\n",
    "axs[1,1].boxplot(df['Flotation Column 06 Air Flow']);\n",
    "axs[1,2].boxplot(df['Flotation Column 07 Air Flow']);"
   ]
  },
  {
   "cell_type": "code",
   "execution_count": 26,
   "id": "f8dec88b",
   "metadata": {},
   "outputs": [
    {
     "data": {
      "image/png": "[encoded data removed]",
      "text/plain": [
       "<Figure size 1080x360 with 8 Axes>"
      ]
     },
     "metadata": {
      "needs_background": "light"
     },
     "output_type": "display_data"
    }
   ],
   "source": [
    "fig, axs = plt.subplots(2, 4, figsize = (15, 5))\n",
    "axs[0,0].boxplot(df['Flotation Column 01 Level']);\n",
    "axs[0,1].boxplot(df['Flotation Column 02 Level']);\n",
    "axs[0,2].boxplot(df['Flotation Column 03 Level']);\n",
    "axs[0,3].boxplot(df['Flotation Column 04 Level']);\n",
    "\n",
    "axs[1,0].boxplot(df['Flotation Column 05 Level']);\n",
    "axs[1,1].boxplot(df['Flotation Column 06 Level']);\n",
    "axs[1,2].boxplot(df['Flotation Column 07 Level']);"
   ]
  },
  {
   "cell_type": "code",
   "execution_count": 27,
   "id": "4524bb40",
   "metadata": {},
   "outputs": [
    {
     "data": {
      "image/png": "[encoded data removed]",
      "text/plain": [
       "<Figure size 432x288 with 4 Axes>"
      ]
     },
     "metadata": {
      "needs_background": "light"
     },
     "output_type": "display_data"
    }
   ],
   "source": [
    "fig, axs = plt.subplots(2, 2)\n",
    "axs[0,0].hist(df['% Iron Concentrate']);\n",
    "axs[0,1].hist(df['% Silica Concentrate']);\n",
    "axs[1,0].boxplot(df['% Iron Concentrate']);\n",
    "axs[1,1].boxplot(df['% Silica Concentrate']);"
   ]
  },
  {
   "cell_type": "markdown",
   "id": "33c1d850",
   "metadata": {},
   "source": [
    "La data no presenta datos faltantes. Los boxplot de algunas variables como Flotation Column 05 Air Flow lucen con muchos outliers."
   ]
  },
  {
   "cell_type": "markdown",
   "id": "4f077a71",
   "metadata": {},
   "source": [
    "### Matriz de diseno"
   ]
  },
  {
   "cell_type": "markdown",
   "id": "31639dcc",
   "metadata": {},
   "source": [
    "Incluyo la variable 'horas' como dummy, removiendo la hora 24 para evitar sobre parametrizacion. Asi, dado un set de varlores para las covariables, se podra caracterizar el % de concentracion silica para cada hora del dia. "
   ]
  },
  {
   "cell_type": "code",
   "execution_count": 290,
   "id": "89ee0dce",
   "metadata": {},
   "outputs": [],
   "source": [
    "df_cat = df\n",
    "dummies = pd.get_dummies(df_cat['hour'], prefix='hour', drop_first=True)\n",
    "df_cat = df_cat.drop(['month_day_aux', 'hour'], axis=1)"
   ]
  },
  {
   "cell_type": "code",
   "execution_count": 291,
   "id": "7ec61ed9",
   "metadata": {},
   "outputs": [],
   "source": [
    "df_categorical = pd.concat([df_cat, dummies], axis=1)"
   ]
  },
  {
   "cell_type": "markdown",
   "id": "d050dd91",
   "metadata": {},
   "source": [
    "### Division entre training y testing data"
   ]
  },
  {
   "cell_type": "markdown",
   "id": "3911de16",
   "metadata": {},
   "source": [
    "Como la informacion historica disponible es medida en el tiempo, no voy a usar validacion cruzada para elegir el modelo. Voy a dividir la data en pasado (mediciones registradas antes de agosto) y futuro (mediciones despues de agosto) y comparare el desempeño de los modelos en la data del futuro. Que es lo que hace mas sentido en este contexto. "
   ]
  },
  {
   "cell_type": "code",
   "execution_count": 135,
   "id": "7e4e7abb",
   "metadata": {},
   "outputs": [],
   "source": [
    "train = df_categorical[df.month_day_aux < 800]\n",
    "test = df_categorical[df.month_day_aux >= 800]"
   ]
  },
  {
   "cell_type": "code",
   "execution_count": 136,
   "id": "ea214bde",
   "metadata": {},
   "outputs": [
    {
     "data": {
      "text/plain": [
       "((3137, 46), (960, 46))"
      ]
     },
     "execution_count": 136,
     "metadata": {},
     "output_type": "execute_result"
    }
   ],
   "source": [
    "train.shape, test.shape"
   ]
  },
  {
   "cell_type": "markdown",
   "id": "ff3f1e38",
   "metadata": {},
   "source": [
    "Asi uso ~25% de los datos en testing y 75% de los datos para training"
   ]
  },
  {
   "cell_type": "code",
   "execution_count": null,
   "id": "8214d6f6",
   "metadata": {},
   "outputs": [],
   "source": [
    "X = train.loc[:, train.columns != '% Silica Concentrate']\n",
    "y = train['% Silica Concentrate']\n",
    "X_test = test.loc[:, test.columns != '% Silica Concentrate']\n",
    "y_test = test['% Silica Concentrate']"
   ]
  },
  {
   "cell_type": "markdown",
   "id": "5857d96c",
   "metadata": {},
   "source": [
    "### Modelo de regresion lineal"
   ]
  },
  {
   "cell_type": "code",
   "execution_count": 293,
   "id": "1855f1c4",
   "metadata": {},
   "outputs": [
    {
     "name": "stdout",
     "output_type": "stream",
     "text": [
      "R2 is 0.6856\n",
      "Intercept is  33.0305\n",
      "                        variable    beta beta_var_Z\n",
      "0                    % Iron Feed  0.0265     0.1361\n",
      "1                  % Silica Feed  0.0317     0.2074\n",
      "2                    Starch Flow    -0.0    -0.0385\n",
      "3                     Amina Flow  0.0002     0.0189\n",
      "4                  Ore Pulp Flow  0.0024     0.0088\n",
      "5                    Ore Pulp pH  0.1627     0.0558\n",
      "6               Ore Pulp Density  0.6718     0.0453\n",
      "7   Flotation Column 01 Air Flow -0.0043    -0.1319\n",
      "8   Flotation Column 02 Air Flow -0.0015    -0.0456\n",
      "9   Flotation Column 03 Air Flow -0.0012    -0.0353\n",
      "10  Flotation Column 04 Air Flow  0.0303     0.0627\n",
      "11  Flotation Column 05 Air Flow  0.0286     0.0882\n",
      "12  Flotation Column 06 Air Flow -0.0068     -0.162\n",
      "13  Flotation Column 07 Air Flow  0.0049     0.1153\n",
      "14     Flotation Column 01 Level -0.0003    -0.0362\n",
      "15     Flotation Column 02 Level -0.0004    -0.0558\n",
      "16     Flotation Column 03 Level -0.0002    -0.0344\n",
      "17     Flotation Column 04 Level    -0.0    -0.0009\n",
      "18     Flotation Column 05 Level -0.0005    -0.0341\n",
      "19     Flotation Column 06 Level  0.0001     0.0081\n",
      "20     Flotation Column 07 Level  0.0003     0.0188\n",
      "21            % Iron Concentrate  -0.783    -0.8664\n",
      "22                        hour_1   0.013     0.0026\n",
      "23                        hour_2 -0.0585    -0.0117\n",
      "24                        hour_3 -0.1071    -0.0214\n",
      "25                        hour_4 -0.0359    -0.0072\n",
      "26                        hour_5 -0.0566    -0.0113\n",
      "27                        hour_6  0.0315     0.0063\n",
      "28                        hour_7  0.0777     0.0155\n",
      "29                        hour_8 -0.0062    -0.0012\n",
      "30                        hour_9  0.0459     0.0092\n",
      "31                       hour_10  0.1246     0.0248\n",
      "32                       hour_11  0.0963     0.0192\n",
      "33                       hour_12  0.0509     0.0102\n",
      "34                       hour_13  0.0355     0.0071\n",
      "35                       hour_14   0.055      0.011\n",
      "36                       hour_15  0.0046     0.0009\n",
      "37                       hour_16  0.1513     0.0303\n",
      "38                       hour_17 -0.0139    -0.0028\n",
      "39                       hour_18  -0.076    -0.0152\n",
      "40                       hour_19 -0.0514    -0.0103\n",
      "41                       hour_20 -0.0742    -0.0148\n",
      "42                       hour_21  0.0399      0.008\n",
      "43                       hour_22  0.0223     0.0045\n",
      "44                       hour_23 -0.0021    -0.0004\n"
     ]
    }
   ],
   "source": [
    "reg = LinearRegression()\n",
    "model_summaries(reg, X, y)"
   ]
  },
  {
   "cell_type": "code",
   "execution_count": 294,
   "id": "dd36c1a9",
   "metadata": {},
   "outputs": [
    {
     "name": "stdout",
     "output_type": "stream",
     "text": [
      "R2 is   0.6285\n",
      "MSE is  0.4784\n",
      "MAE is  0.5341\n"
     ]
    }
   ],
   "source": [
    "metrics_on_test(reg.predict(X_test), y_test)"
   ]
  },
  {
   "cell_type": "markdown",
   "id": "7f9d0bd3",
   "metadata": {},
   "source": [
    "### Modelo de regression lineal con penalizacion lasso"
   ]
  },
  {
   "cell_type": "code",
   "execution_count": 295,
   "id": "1572b602",
   "metadata": {},
   "outputs": [
    {
     "name": "stdout",
     "output_type": "stream",
     "text": [
      "R2 is 0.6686\n",
      "Intercept is  47.822\n",
      "                        variable    beta beta_var_Z\n",
      "0                    % Iron Feed    -0.0       -0.0\n",
      "1                  % Silica Feed  0.0091        0.0\n",
      "2                    Starch Flow    -0.0       -0.0\n",
      "3                     Amina Flow  0.0007        0.0\n",
      "4                  Ore Pulp Flow     0.0        0.0\n",
      "5                    Ore Pulp pH     0.0       -0.0\n",
      "6               Ore Pulp Density     0.0        0.0\n",
      "7   Flotation Column 01 Air Flow -0.0051    -0.0575\n",
      "8   Flotation Column 02 Air Flow -0.0008       -0.0\n",
      "9   Flotation Column 03 Air Flow -0.0009    -0.0054\n",
      "10  Flotation Column 04 Air Flow     0.0       -0.0\n",
      "11  Flotation Column 05 Air Flow   0.005        0.0\n",
      "12  Flotation Column 06 Air Flow -0.0001       -0.0\n",
      "13  Flotation Column 07 Air Flow     0.0       -0.0\n",
      "14     Flotation Column 01 Level -0.0001       -0.0\n",
      "15     Flotation Column 02 Level -0.0004       -0.0\n",
      "16     Flotation Column 03 Level -0.0002       -0.0\n",
      "17     Flotation Column 04 Level -0.0001       -0.0\n",
      "18     Flotation Column 05 Level -0.0008       -0.0\n",
      "19     Flotation Column 06 Level  0.0001       -0.0\n",
      "20     Flotation Column 07 Level  0.0002       -0.0\n",
      "21            % Iron Concentrate -0.6892    -0.7891\n",
      "22                        hour_1    -0.0        0.0\n",
      "23                        hour_2    -0.0       -0.0\n",
      "24                        hour_3    -0.0       -0.0\n",
      "25                        hour_4    -0.0       -0.0\n",
      "26                        hour_5    -0.0       -0.0\n",
      "27                        hour_6     0.0        0.0\n",
      "28                        hour_7     0.0        0.0\n",
      "29                        hour_8    -0.0       -0.0\n",
      "30                        hour_9     0.0        0.0\n",
      "31                       hour_10     0.0        0.0\n",
      "32                       hour_11     0.0        0.0\n",
      "33                       hour_12     0.0        0.0\n",
      "34                       hour_13     0.0        0.0\n",
      "35                       hour_14     0.0        0.0\n",
      "36                       hour_15    -0.0       -0.0\n",
      "37                       hour_16     0.0        0.0\n",
      "38                       hour_17    -0.0       -0.0\n",
      "39                       hour_18    -0.0       -0.0\n",
      "40                       hour_19    -0.0       -0.0\n",
      "41                       hour_20    -0.0       -0.0\n",
      "42                       hour_21     0.0        0.0\n",
      "43                       hour_22     0.0        0.0\n",
      "44                       hour_23    -0.0       -0.0\n"
     ]
    }
   ],
   "source": [
    "lasso = linear_model.Lasso(alpha=0.1)\n",
    "model_summaries(lasso, X, y)"
   ]
  },
  {
   "cell_type": "code",
   "execution_count": 255,
   "id": "58be3c8e",
   "metadata": {},
   "outputs": [
    {
     "name": "stdout",
     "output_type": "stream",
     "text": [
      "R2 is   0.6741\n",
      "MSE is  0.4197\n",
      "MAE is  0.5086\n"
     ]
    }
   ],
   "source": [
    "metrics_on_test(lasso.predict(X_test), y_test)"
   ]
  },
  {
   "cell_type": "markdown",
   "id": "8fda640e",
   "metadata": {},
   "source": [
    "## Modelo de regresion elastic net"
   ]
  },
  {
   "cell_type": "code",
   "execution_count": 256,
   "id": "ca19cc74",
   "metadata": {},
   "outputs": [
    {
     "name": "stdout",
     "output_type": "stream",
     "text": [
      "R2 is 0.4053\n",
      "Intercept is  20.3243\n",
      "                        variable    beta beta_var_Z\n",
      "0                    % Iron Feed    -0.0     0.1361\n",
      "1                  % Silica Feed     0.0     0.2074\n",
      "2                    Starch Flow -0.0001    -0.0385\n",
      "3                     Amina Flow  0.0015     0.0189\n",
      "4                  Ore Pulp Flow    -0.0     0.0088\n",
      "5                    Ore Pulp pH    -0.0     0.0558\n",
      "6               Ore Pulp Density    -0.0     0.0453\n",
      "7   Flotation Column 01 Air Flow -0.0071    -0.1319\n",
      "8   Flotation Column 02 Air Flow    -0.0    -0.0456\n",
      "9   Flotation Column 03 Air Flow -0.0018    -0.0353\n",
      "10  Flotation Column 04 Air Flow     0.0     0.0627\n",
      "11  Flotation Column 05 Air Flow     0.0     0.0882\n",
      "12  Flotation Column 06 Air Flow    -0.0     -0.162\n",
      "13  Flotation Column 07 Air Flow     0.0     0.1153\n",
      "14     Flotation Column 01 Level -0.0001    -0.0362\n",
      "15     Flotation Column 02 Level -0.0005    -0.0558\n",
      "16     Flotation Column 03 Level    -0.0    -0.0344\n",
      "17     Flotation Column 04 Level -0.0001    -0.0009\n",
      "18     Flotation Column 05 Level -0.0018    -0.0341\n",
      "19     Flotation Column 06 Level     0.0     0.0081\n",
      "20     Flotation Column 07 Level    -0.0     0.0188\n",
      "21            % Iron Concentrate -0.2287    -0.8664\n",
      "22                        hour_1    -0.0     0.0026\n",
      "23                        hour_2    -0.0    -0.0117\n",
      "24                        hour_3    -0.0    -0.0214\n",
      "25                        hour_4    -0.0    -0.0072\n",
      "26                        hour_5    -0.0    -0.0113\n",
      "27                        hour_6    -0.0     0.0063\n",
      "28                        hour_7     0.0     0.0155\n",
      "29                        hour_8    -0.0    -0.0012\n",
      "30                        hour_9     0.0     0.0092\n",
      "31                       hour_10     0.0     0.0248\n",
      "32                       hour_11     0.0     0.0192\n",
      "33                       hour_12     0.0     0.0102\n",
      "34                       hour_13     0.0     0.0071\n",
      "35                       hour_14     0.0      0.011\n",
      "36                       hour_15    -0.0     0.0009\n",
      "37                       hour_16     0.0     0.0303\n",
      "38                       hour_17     0.0    -0.0028\n",
      "39                       hour_18    -0.0    -0.0152\n",
      "40                       hour_19    -0.0    -0.0103\n",
      "41                       hour_20    -0.0    -0.0148\n",
      "42                       hour_21     0.0      0.008\n",
      "43                       hour_22     0.0     0.0045\n",
      "44                       hour_23    -0.0    -0.0004\n"
     ]
    }
   ],
   "source": [
    "elastic = ElasticNet(random_state=0)\n",
    "model_summaries(elastic, X, y)"
   ]
  },
  {
   "cell_type": "code",
   "execution_count": 257,
   "id": "1ab72743",
   "metadata": {},
   "outputs": [
    {
     "name": "stdout",
     "output_type": "stream",
     "text": [
      "R2 is   0.3907\n",
      "MSE is  0.7847\n",
      "MAE is  0.6766\n"
     ]
    }
   ],
   "source": [
    "metrics_on_test(elastic.predict(X_test), y_test)"
   ]
  },
  {
   "cell_type": "markdown",
   "id": "5fa696be",
   "metadata": {},
   "source": [
    "Comentario: \n",
    "\n",
    "(nota: si bien en estos modelos de regresion modelamos % de concentracion de silice MEDIO y las interpretaciones deben ser usando esa terminalogía, en lo que sigue y para hacer la lectura mas simple solo hablaré del % de concentracion de silice.)\n",
    "\n",
    "En terminos estadisticos, el modelo de regresion lasso es el que tiene el mejor desempaño en la data de testing y la mejor diferencia de ajuste entre training y testing data, lo que lo hace el candidato favorito. \n",
    "\n",
    "La desventaja es que bajo este modelo, las variables relacionadas a la hora del dia tiene coefficientes iguales a 0, por lo que no se puede determinar el evolucion del % de concentracion de silice con este modelo.\n",
    "\n",
    "El modelo que le sigue en terminos estadisticos es el modelo de regresion lineal. Tiene un desempeño menor en data de testing y una diferencia mayor entre ajuste de trainign y testing, pero permite caracterizar la evolucion del % de concentracion de silice a lo largo del dia. Por este motivo elegi el modelo de regresion lineal."
   ]
  },
  {
   "cell_type": "markdown",
   "id": "8fadf357",
   "metadata": {},
   "source": [
    "### Modelo de regresion para predecir el % de concentrado de silice"
   ]
  },
  {
   "cell_type": "code",
   "execution_count": 296,
   "id": "74903152",
   "metadata": {},
   "outputs": [
    {
     "data": {
      "text/plain": [
       "LinearRegression()"
      ]
     },
     "execution_count": 296,
     "metadata": {},
     "output_type": "execute_result"
    }
   ],
   "source": [
    "reg.fit(X, y)"
   ]
  },
  {
   "cell_type": "code",
   "execution_count": 297,
   "id": "43c1a533",
   "metadata": {},
   "outputs": [],
   "source": [
    "beta0 = reg.intercept_\n",
    "betaS = reg.coef_[0:22]\n",
    "betaHoras = reg.coef_[22:len(reg.coef_)]"
   ]
  },
  {
   "cell_type": "code",
   "execution_count": 298,
   "id": "c87063b1",
   "metadata": {},
   "outputs": [],
   "source": [
    "# un vecor fijo de variables explicativas en el modelo para hacer \n",
    "# caracterizacion de % de concentracion silice para cada hora del dia\n",
    "x0 = X.mean()[0:22]"
   ]
  },
  {
   "cell_type": "code",
   "execution_count": 299,
   "id": "bb329c4a",
   "metadata": {},
   "outputs": [],
   "source": [
    "# calculo de  % de concentracion silice por hora\n",
    "base = beta0 + np.dot(betaS, x0)\n",
    "concentracion = []\n",
    "for i in range(len(betaHoras)):\n",
    "    concentracion.append(base + betaHoras[i])\n",
    "concentracion.append(base)    "
   ]
  },
  {
   "cell_type": "code",
   "execution_count": 300,
   "id": "957fdb00",
   "metadata": {},
   "outputs": [
    {
     "data": {
      "text/plain": [
       "[2.3234150362238184,\n",
       " 2.2518675975380664,\n",
       " 2.203350548328378,\n",
       " 2.274493793526179,\n",
       " 2.253842642251557,\n",
       " 2.341930939760461,\n",
       " 2.38806125309543,\n",
       " 2.304231648715009,\n",
       " 2.3563168451963987,\n",
       " 2.435043392019318,\n",
       " 2.4067126814972606,\n",
       " 2.3612874088064775,\n",
       " 2.345896569117562,\n",
       " 2.365400816762527,\n",
       " 2.3149965881612347,\n",
       " 2.4617426198594017,\n",
       " 2.2964833853959825,\n",
       " 2.23441731295153,\n",
       " 2.2590245700060514,\n",
       " 2.236175453067397,\n",
       " 2.3503450832557076,\n",
       " 2.3326738225840518,\n",
       " 2.3083221356932215,\n",
       " 2.3104006609280887]"
      ]
     },
     "execution_count": 300,
     "metadata": {},
     "output_type": "execute_result"
    }
   ],
   "source": [
    "# % concentracion silice para cada hora del dia\n",
    "concentracion"
   ]
  },
  {
   "cell_type": "code",
   "execution_count": 301,
   "id": "ed1e5138",
   "metadata": {},
   "outputs": [
    {
     "data": {
      "text/plain": [
       "Text(0, 0.5, 'concentracion silice')"
      ]
     },
     "execution_count": 301,
     "metadata": {},
     "output_type": "execute_result"
    },
    {
     "data": {
      "image/png": "[encoded data removed]",
      "text/plain": [
       "<Figure size 432x288 with 1 Axes>"
      ]
     },
     "metadata": {
      "needs_background": "light"
     },
     "output_type": "display_data"
    }
   ],
   "source": [
    "plt.plot(concentracion);\n",
    "plt.title('% concentracion silice')\n",
    "plt.xlabel('hora')\n",
    "plt.ylabel('concentracion silice')"
   ]
  },
  {
   "cell_type": "markdown",
   "id": "b88020b0",
   "metadata": {},
   "source": [
    "Comentarios:\n",
    "\n",
    "- La variable que tiene el mayor impacto en % de concentracion de silice es % de concentracion de hierro (impacto negativo). Le siguen  % Silica Feed (positivo), Flotation column 06 Air Flow (negativo) y % Iron Feed (positivo). Interesantemente, las variables Starch Flow, Amina Fow, Ore Pulp Flow y Ore Pulp Ph no parecen tener un impacto tan importante en caracterizar el % de concentracion de silice  como se menciono en las instrucciones.\n",
    "\n",
    "- En terminos de la evolucion del % de concentracion de silice durante el dia, puedo decir que las horas del dia en que ocurren los mayores incrementos de % de concentracion de silice son a la hora 16, 10 y 11."
   ]
  },
  {
   "cell_type": "markdown",
   "id": "d219f5d0",
   "metadata": {},
   "source": [
    "## ¿Con cuantos pasos (horas) de anticipacion podemos predecir el % de silice en el concentrado?\n",
    "\n",
    "Con el modelo anterior la evolucion del % de silice en el concentrado esta caracterizado para todo el dia lo que da tiempo a los ingenieros para prepararse."
   ]
  },
  {
   "cell_type": "markdown",
   "id": "55e4df62",
   "metadata": {},
   "source": [
    "## ¿Es posible predecir el % de silice en concentrado sin usar la columna de % de concentrado de hierro (ya que estan altamente correlacionados)?\n",
    "\n",
    "En el modelo de regresion lasso, el que hace seleccion de variables automaticas, se observa que el % de concentrado de hierro es la mas influyente en el modelo y una de las solo 3 variables que se estiman como influyentes cuando se estandarizan las variables.\n",
    "\n",
    "Algunas opciones para lidear con su ausencia:\\\n",
    "\n",
    "- hacer un modelo de regresion sin incluir esa variable. Probablemente resultara en un modelo con un r2 bajo ya que poca variabilidad de los datos sera expicada por el modelo\n",
    "- otra alternativa es ajustar un modelo que prediga el % de concentrado de hierro y usar las predicciones de ese modelo como una de las variables explicativas al momento de ajustar el modelo de % de silice en el concentrado."
   ]
  }
 ],
 "metadata": {
  "kernelspec": {
   "display_name": "Python 3 (ipykernel)",
   "language": "python",
   "name": "python3"
  },
  "language_info": {
   "codemirror_mode": {
    "name": "ipython",
    "version": 3
   },
   "file_extension": ".py",
   "mimetype": "text/x-python",
   "name": "python",
   "nbconvert_exporter": "python",
   "pygments_lexer": "ipython3",
   "version": "3.9.7"
  }
 },
 "nbformat": 4,
 "nbformat_minor": 5
}
